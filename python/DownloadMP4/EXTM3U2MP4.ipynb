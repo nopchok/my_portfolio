{
 "cells": [
  {
   "cell_type": "markdown",
   "metadata": {},
   "source": [
    "# Download file from EXTM3U and Concat to MP4 using FFMPEG"
   ]
  },
  {
   "cell_type": "code",
   "execution_count": null,
   "metadata": {},
   "outputs": [],
   "source": [
    "import requests\n",
    "import os\n",
    "import subprocess"
   ]
  },
  {
   "cell_type": "code",
   "execution_count": null,
   "metadata": {},
   "outputs": [],
   "source": [
    "all_data = [\n",
    "    {\n",
    "        'url': 'URL of M3U -- get list of url (small video files)',\n",
    "        'save_folder': r'FOLDER TARGET' + '\\\\',\n",
    "        'mp4_name': 'v_ep2'\n",
    "    }\n",
    "]\n",
    "\n",
    "ffmpeg = r'PATH OF ffmpeg.exe'"
   ]
  },
  {
   "cell_type": "code",
   "execution_count": null,
   "metadata": {},
   "outputs": [],
   "source": [
    "for d in all_data:\n",
    "    mp4_name = d['mp4_name']\n",
    "    url = d['url']\n",
    "    save_folder = d['save_folder'] + mp4_name\n",
    "\n",
    "    # Make sure the folder exists\n",
    "    os.makedirs(save_folder, exist_ok=True)\n",
    "\n",
    "    res = requests.get(url)\n",
    "    \n",
    "    l_url = res.text.split('\\n')\n",
    "    l_url = list(filter(lambda x: 'https:' in x, l_url))\n",
    "    print(mp4_name, 'Length file', len(l_url))\n",
    "\n",
    "    list_mp4 = []\n",
    "\n",
    "    for i, url in enumerate(l_url, start=1):\n",
    "        filename = url.split(\"/\")[-1]\n",
    "        filepath = os.path.join(save_folder, filename)\n",
    "\n",
    "        list_mp4.append('file ' + filepath)\n",
    "\n",
    "        if os.path.exists(filepath):\n",
    "            print(f\"Skipping {filename} ({i}/{len(l_url)})\", end=\"\\r\", flush=True)\n",
    "            continue\n",
    "\n",
    "        # Download and save\n",
    "        response = requests.get(url)\n",
    "        response.raise_for_status()\n",
    "\n",
    "        with open(filepath, \"wb\") as f:\n",
    "            f.write(response.content)\n",
    "\n",
    "        # Progress output\n",
    "        print(f\"Downloaded {filename} ({i}/{len(l_url)})\", end=\"\\r\", flush=True)\n",
    "\n",
    "    # After loop, print a newline to avoid overwriting\n",
    "    print(f\"\\nFinished downloading {mp4_name}, total {len(l_url)} files\")\n",
    "\n",
    "    text_filepath = os.path.join(save_folder, 'file.txt')\n",
    "    content = '\\n'.join(list_mp4).replace('\\\\', '\\\\\\\\').encode('utf-8')\n",
    "    with open(text_filepath, \"wb\") as f:\n",
    "        f.write(content)\n",
    "\n",
    "    mp4_filepath = save_folder + '\\\\' + mp4_name + '.mp4'\n",
    "    if os.path.exists(mp4_filepath):\n",
    "        print('Skip', mp4_filepath)\n",
    "        continue\n",
    "\n",
    "    batch_filepath = os.path.join(save_folder, 'b.bat')\n",
    "    batch_code = r'\"' + ffmpeg + '\" -f concat -safe 0 -i \"' + text_filepath + '\" -c copy \"' + mp4_filepath + '\"'\n",
    "    with open(batch_filepath, \"w\") as f:\n",
    "        f.write(batch_code)\n",
    "\n",
    "    # Run via cmd explicitly\n",
    "    result = subprocess.run(f'cmd /c \"{batch_filepath}\"', shell=True, capture_output=True, text=True)\n",
    "\n",
    "    # Output\n",
    "    print(\"Return code:\", result.returncode)\n",
    "    print(\"stdout:\\n\", result.stdout)\n",
    "    print(\"stderr:\\n\", result.stderr)\n"
   ]
  }
 ],
 "metadata": {
  "kernelspec": {
   "display_name": "env03",
   "language": "python",
   "name": "python3"
  },
  "language_info": {
   "codemirror_mode": {
    "name": "ipython",
    "version": 3
   },
   "file_extension": ".py",
   "mimetype": "text/x-python",
   "name": "python",
   "nbconvert_exporter": "python",
   "pygments_lexer": "ipython3",
   "version": "3.10.11"
  }
 },
 "nbformat": 4,
 "nbformat_minor": 2
}
